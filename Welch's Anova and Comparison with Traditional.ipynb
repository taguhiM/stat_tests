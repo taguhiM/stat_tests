{
 "cells": [
  {
   "cell_type": "code",
   "execution_count": 1,
   "metadata": {},
   "outputs": [],
   "source": [
    "import numpy as np\n",
    "import pandas as pd\n",
    "from scipy.stats import f_oneway, f\n",
    "from scipy import stats\n",
    "import matplotlib.pyplot as plt"
   ]
  },
  {
   "cell_type": "markdown",
   "metadata": {},
   "source": [
    "## Welch's ANOVA Implementation"
   ]
  },
  {
   "cell_type": "code",
   "execution_count": 2,
   "metadata": {},
   "outputs": [],
   "source": [
    "#Welch's anova\n",
    "def weight(arr):\n",
    "    n = len(arr)\n",
    "    sig2 = (np.var(arr, ddof=1))**2\n",
    "    return n/sig2\n",
    "\n",
    "def W_sum(*arrays):\n",
    "    s=0\n",
    "    for arr in arrays:\n",
    "        s+=weight(arr)\n",
    "    return s\n",
    "    \n",
    "def MS(*arrays):\n",
    "    s=0\n",
    "    W = W_sum(*arrays)\n",
    "    for arr in arrays:\n",
    "        s+=arr.mean()*weight(arr)\n",
    "    return s/W\n",
    "\n",
    "def Numerator(*arrays):\n",
    "    k=len(arrays)\n",
    "    s=0\n",
    "    for arr in arrays:\n",
    "        s+=(arr.mean() - MS(*arrays))**2*weight(arr)\n",
    "    return s/(k-1)\n",
    "\n",
    "def A(*arrays):\n",
    "    s=0\n",
    "    W = W_sum(*arrays)\n",
    "    for arr in arrays:\n",
    "        s+= ((1-weight(arr)/W)**2)/(len(arr)-1)\n",
    "    return s\n",
    "\n",
    "def Denominator(*arrays):\n",
    "    k=len(arrays)\n",
    "    return 3*A(*arrays)*(k-2)/(k**2-1)+1\n",
    "\n",
    "def DoF(*arrays):\n",
    "    k = len(arrays)\n",
    "    DF_Numerator = k-1\n",
    "    DF_Denominator = (k**2-1)/(3*A(*arrays))\n",
    "    return DF_Numerator, DF_Denominator\n",
    "        \n",
    "def Welch_anova(*arrays):\n",
    "    DFNum = DoF(*arrays)[0]\n",
    "    DFDen = DoF(*arrays)[1]\n",
    "    F = Numerator(*arrays)/Denominator(*arrays)\n",
    "    p = stats.f.sf(F, DFNum, DFDen)\n",
    "    return F,p\n"
   ]
  },
  {
   "cell_type": "markdown",
   "metadata": {},
   "source": [
    "## Whelch's ANOVA VS traditional ANOVA"
   ]
  },
  {
   "cell_type": "code",
   "execution_count": 3,
   "metadata": {},
   "outputs": [],
   "source": [
    "def comparison_anova(*arrays):\n",
    "    F = f_oneway(*arrays)[0]\n",
    "    p = f_oneway(*arrays)[1]\n",
    "    Welch_F = Welch_anova(*arrays)[0]\n",
    "    Welch_p = Welch_anova(*arrays)[1]\n",
    "    print('statistic= %f'%F, 'pvalue= %f'%p)\n",
    "    if p > 0.05:\n",
    "        print('Accept Ho')\n",
    "    else:\n",
    "        print('Reject Ho')   \n",
    "    print('\\n')    \n",
    "    print('W_statistic= %f'%Welch_F, 'W_pvalue= %f'%Welch_p)    \n",
    "    if Welch_p > 0.05:\n",
    "        print('Accept Ho')\n",
    "    else:\n",
    "        print('Reject Ho')   \n",
    "    print('\\n')\n",
    "\n",
    "#'Accept Ho: All input samples are from populations with equal means (alpha = 5%)'\n",
    "#'Reject Ho: All input samples are not from populations with equal means (alpha = 5%)'"
   ]
  },
  {
   "cell_type": "markdown",
   "metadata": {},
   "source": [
    "## Examples"
   ]
  },
  {
   "cell_type": "markdown",
   "metadata": {},
   "source": [
    "### == means <br> == variances <br> == sizes"
   ]
  },
  {
   "cell_type": "code",
   "execution_count": 4,
   "metadata": {},
   "outputs": [
    {
     "name": "stdout",
     "output_type": "stream",
     "text": [
      "statistic= 1.041478 pvalue= 0.352945\n",
      "Accept Ho\n",
      "\n",
      "\n",
      "W_statistic= 1.029274 W_pvalue= 0.357285\n",
      "Accept Ho\n",
      "\n",
      "\n"
     ]
    }
   ],
   "source": [
    "a = np.random.normal(0, 1, size=10000)\n",
    "b = np.random.normal(0, 1, size=10000)\n",
    "c = np.random.normal(0, 1, size=10000)\n",
    "comparison_anova(a,b,c)"
   ]
  },
  {
   "cell_type": "code",
   "execution_count": 5,
   "metadata": {},
   "outputs": [
    {
     "name": "stdout",
     "output_type": "stream",
     "text": [
      "statistic= 6.455091 pvalue= 0.001575\n",
      "Reject Ho\n",
      "\n",
      "\n",
      "W_statistic= 0.015804 W_pvalue= 0.984320\n",
      "Accept Ho\n",
      "\n",
      "\n"
     ]
    }
   ],
   "source": [
    "a = np.random.normal(104, 20, size=10000)\n",
    "b = np.random.normal(104, 20, size=10000)\n",
    "c = np.random.normal(104, 20, size=10000)\n",
    "comparison_anova(a,b,c)"
   ]
  },
  {
   "cell_type": "markdown",
   "metadata": {},
   "source": [
    "### == means <br>== variances <br> ! = sizes"
   ]
  },
  {
   "cell_type": "code",
   "execution_count": 6,
   "metadata": {},
   "outputs": [
    {
     "name": "stdout",
     "output_type": "stream",
     "text": [
      "statistic= 0.732989 pvalue= 0.480515\n",
      "Accept Ho\n",
      "\n",
      "\n",
      "W_statistic= 0.881429 W_pvalue= 0.416696\n",
      "Accept Ho\n",
      "\n",
      "\n"
     ]
    }
   ],
   "source": [
    "a = np.random.normal(0, 1, size=50)\n",
    "b = np.random.normal(0, 1, size=800)\n",
    "c = np.random.normal(0, 1, size=5000)\n",
    "comparison_anova(a,b,c)"
   ]
  },
  {
   "cell_type": "code",
   "execution_count": 7,
   "metadata": {},
   "outputs": [
    {
     "name": "stdout",
     "output_type": "stream",
     "text": [
      "statistic= 0.502194 pvalue= 0.605227\n",
      "Accept Ho\n",
      "\n",
      "\n",
      "W_statistic= 0.507834 W_pvalue= 0.603016\n",
      "Accept Ho\n",
      "\n",
      "\n"
     ]
    }
   ],
   "source": [
    "a = np.random.normal(0, 1, size=50)\n",
    "b = np.random.normal(0, 1, size=800)\n",
    "c = np.random.normal(0, 1, size=5000)\n",
    "comparison_anova(a,b,c)"
   ]
  },
  {
   "cell_type": "code",
   "execution_count": 8,
   "metadata": {},
   "outputs": [
    {
     "name": "stdout",
     "output_type": "stream",
     "text": [
      "statistic= 0.042891 pvalue= 0.958016\n",
      "Accept Ho\n",
      "\n",
      "\n",
      "W_statistic= 0.043178 W_pvalue= 0.957755\n",
      "Accept Ho\n",
      "\n",
      "\n"
     ]
    }
   ],
   "source": [
    "a = np.random.normal(0, 1.1, size=50)\n",
    "b = np.random.normal(0, 1.1, size=800)\n",
    "c = np.random.normal(0, 1.1, size=5000)\n",
    "comparison_anova(a,b,c)"
   ]
  },
  {
   "cell_type": "code",
   "execution_count": 9,
   "metadata": {},
   "outputs": [
    {
     "name": "stdout",
     "output_type": "stream",
     "text": [
      "statistic= 0.538719 pvalue= 0.583657\n",
      "Accept Ho\n",
      "\n",
      "\n",
      "W_statistic= 0.005160 W_pvalue= 0.994853\n",
      "Accept Ho\n",
      "\n",
      "\n"
     ]
    }
   ],
   "source": [
    "a = np.random.normal(29, 10, size=50)\n",
    "b = np.random.normal(29, 10, size=800)\n",
    "c = np.random.normal(29, 10, size=200)\n",
    "comparison_anova(a,b,c)"
   ]
  },
  {
   "cell_type": "code",
   "execution_count": 10,
   "metadata": {},
   "outputs": [
    {
     "name": "stdout",
     "output_type": "stream",
     "text": [
      "statistic= 1.063486 pvalue= 0.345623\n",
      "Accept Ho\n",
      "\n",
      "\n",
      "W_statistic= 0.010657 W_pvalue= 0.989401\n",
      "Accept Ho\n",
      "\n",
      "\n"
     ]
    }
   ],
   "source": [
    "a = np.random.normal(100, 10, size=50)\n",
    "b = np.random.normal(100, 10, size=800)\n",
    "c = np.random.normal(100, 10, size=200)\n",
    "comparison_anova(a,b,c)"
   ]
  },
  {
   "cell_type": "code",
   "execution_count": 11,
   "metadata": {},
   "outputs": [
    {
     "name": "stdout",
     "output_type": "stream",
     "text": [
      "statistic= 0.156953 pvalue= 0.854745\n",
      "Accept Ho\n",
      "\n",
      "\n",
      "W_statistic= 15.693940 W_pvalue= 0.000000\n",
      "Reject Ho\n",
      "\n",
      "\n"
     ]
    }
   ],
   "source": [
    "a = np.random.normal(29, 0.1, size=5000)\n",
    "b = np.random.normal(29, 0.1, size=800)\n",
    "c = np.random.normal(29, 0.1, size=20000)\n",
    "comparison_anova(a,b,c)"
   ]
  },
  {
   "cell_type": "code",
   "execution_count": 12,
   "metadata": {},
   "outputs": [
    {
     "name": "stdout",
     "output_type": "stream",
     "text": [
      "statistic= 0.393815 pvalue= 0.674483\n",
      "Accept Ho\n",
      "\n",
      "\n",
      "W_statistic= 2.298113 W_pvalue= 0.100709\n",
      "Accept Ho\n",
      "\n",
      "\n"
     ]
    }
   ],
   "source": [
    "a = np.random.normal(29, 0.41, size=5000)\n",
    "b = np.random.normal(29, 0.41, size=800)\n",
    "c = np.random.normal(29, 0.41, size=20000)\n",
    "comparison_anova(a,b,c)"
   ]
  },
  {
   "cell_type": "markdown",
   "metadata": {},
   "source": [
    "#### Variances are all equal, though results highly depends on the value of the variance. Note that variances less then or equal to 1 behave them unstable and lead to rejecting the Ho hypothesis.  Weights get too big when variances get close to 0, as weights are inversely proptional to square of variances, so it's somewhat expected to have this kind of poor results on that. Maybe it can be controlled by appropriate sample size though it's not the thing we should manage."
   ]
  },
  {
   "attachments": {
    "image.png": {
     "image/png": "[encoded data removed]"
    }
   },
   "cell_type": "markdown",
   "metadata": {},
   "source": [
    "https://scholarscompass.vcu.edu/cgi/viewcontent.cgi?article=5026&context=etd\n",
    "![image.png](attachment:image.png)"
   ]
  },
  {
   "cell_type": "markdown",
   "metadata": {},
   "source": [
    "### == means <br> ! = variances <br> = = sizes"
   ]
  },
  {
   "cell_type": "code",
   "execution_count": 13,
   "metadata": {},
   "outputs": [
    {
     "name": "stdout",
     "output_type": "stream",
     "text": [
      "statistic= 0.405246 pvalue= 0.666816\n",
      "Accept Ho\n",
      "\n",
      "\n",
      "W_statistic= 0.780858 W_pvalue= 0.458034\n",
      "Accept Ho\n",
      "\n",
      "\n"
     ]
    }
   ],
   "source": [
    "a = np.random.normal(0, 1, size=10000)\n",
    "b = np.random.normal(0, 1.5, size=10000)\n",
    "c = np.random.normal(0, 0.23, size=10000)\n",
    "comparison_anova(a,b,c)"
   ]
  },
  {
   "cell_type": "code",
   "execution_count": 14,
   "metadata": {},
   "outputs": [
    {
     "name": "stdout",
     "output_type": "stream",
     "text": [
      "statistic= 0.078067 pvalue= 0.924903\n",
      "Accept Ho\n",
      "\n",
      "\n",
      "W_statistic= 0.006051 W_pvalue= 0.993967\n",
      "Accept Ho\n",
      "\n",
      "\n"
     ]
    }
   ],
   "source": [
    "a = np.random.normal(0, 10, size=10000)\n",
    "b = np.random.normal(0, 3.5, size=10000)\n",
    "c = np.random.normal(0, 0.23, size=10000)\n",
    "comparison_anova(a,b,c)"
   ]
  },
  {
   "cell_type": "code",
   "execution_count": 15,
   "metadata": {},
   "outputs": [
    {
     "name": "stdout",
     "output_type": "stream",
     "text": [
      "statistic= 0.769692 pvalue= 0.463165\n",
      "Accept Ho\n",
      "\n",
      "\n",
      "W_statistic= 0.000346 W_pvalue= 0.999654\n",
      "Accept Ho\n",
      "\n",
      "\n"
     ]
    }
   ],
   "source": [
    "a = np.random.normal(100, 89, size=10000)\n",
    "b = np.random.normal(100, 24, size=10000)\n",
    "c = np.random.normal(100, 0.1, size=10000)\n",
    "comparison_anova(a,b,c)"
   ]
  },
  {
   "cell_type": "code",
   "execution_count": 16,
   "metadata": {},
   "outputs": [
    {
     "name": "stdout",
     "output_type": "stream",
     "text": [
      "statistic= 0.541344 pvalue= 0.581971\n",
      "Accept Ho\n",
      "\n",
      "\n",
      "W_statistic= 7.246724 W_pvalue= 0.000715\n",
      "Reject Ho\n",
      "\n",
      "\n"
     ]
    }
   ],
   "source": [
    "a = np.random.normal(100, 0.4, size=10000)\n",
    "b = np.random.normal(100, 0.6, size=10000)\n",
    "c = np.random.normal(100, 0.1, size=10000)\n",
    "comparison_anova(a,b,c)"
   ]
  },
  {
   "cell_type": "markdown",
   "metadata": {},
   "source": [
    "### == means <br>! = variances <br> ! = sizes"
   ]
  },
  {
   "cell_type": "code",
   "execution_count": 17,
   "metadata": {},
   "outputs": [
    {
     "name": "stdout",
     "output_type": "stream",
     "text": [
      "statistic= 1.495446 pvalue= 0.224165\n",
      "Accept Ho\n",
      "\n",
      "\n",
      "W_statistic= 1.135651 W_pvalue= 0.321239\n",
      "Accept Ho\n",
      "\n",
      "\n"
     ]
    }
   ],
   "source": [
    "a = np.random.normal(0, 1, size=10000)\n",
    "b = np.random.normal(0, 1.5, size=15000)\n",
    "c = np.random.normal(0, 0.23, size=6000)\n",
    "comparison_anova(a,b,c)"
   ]
  },
  {
   "cell_type": "code",
   "execution_count": 18,
   "metadata": {},
   "outputs": [
    {
     "name": "stdout",
     "output_type": "stream",
     "text": [
      "statistic= 0.043145 pvalue= 0.957773\n",
      "Accept Ho\n",
      "\n",
      "\n",
      "W_statistic= 0.002199 W_pvalue= 0.997803\n",
      "Accept Ho\n",
      "\n",
      "\n"
     ]
    }
   ],
   "source": [
    "a = np.random.normal(0, 10, size=1000)\n",
    "b = np.random.normal(0, 1.5, size=150)\n",
    "c = np.random.normal(0, 223, size=10000)\n",
    "comparison_anova(a,b,c)"
   ]
  },
  {
   "cell_type": "code",
   "execution_count": 19,
   "metadata": {},
   "outputs": [
    {
     "name": "stdout",
     "output_type": "stream",
     "text": [
      "statistic= 37.623700 pvalue= 0.000000\n",
      "Reject Ho\n",
      "\n",
      "\n",
      "W_statistic= 0.000267 W_pvalue= 0.999733\n",
      "Accept Ho\n",
      "\n",
      "\n"
     ]
    }
   ],
   "source": [
    "a = np.random.normal(111, 100, size=1000)\n",
    "b = np.random.normal(111, 1.5, size=15000)\n",
    "c = np.random.normal(111, 34, size=300)\n",
    "comparison_anova(a,b,c)"
   ]
  },
  {
   "cell_type": "code",
   "execution_count": 20,
   "metadata": {},
   "outputs": [
    {
     "name": "stdout",
     "output_type": "stream",
     "text": [
      "statistic= 5.603438 pvalue= 0.003692\n",
      "Reject Ho\n",
      "\n",
      "\n",
      "W_statistic= 3.890922 W_pvalue= 0.020823\n",
      "Reject Ho\n",
      "\n",
      "\n"
     ]
    }
   ],
   "source": [
    "a = np.random.normal(111, 0.1, size=1000)\n",
    "b = np.random.normal(111, 0.4, size=15000)\n",
    "c = np.random.normal(111, 0.8, size=300)\n",
    "comparison_anova(a,b,c)"
   ]
  },
  {
   "cell_type": "markdown",
   "metadata": {},
   "source": [
    "### ! = means <br>== variances <br> == sizes"
   ]
  },
  {
   "cell_type": "code",
   "execution_count": 21,
   "metadata": {},
   "outputs": [
    {
     "name": "stdout",
     "output_type": "stream",
     "text": [
      "statistic= 1.914376 pvalue= 0.147452\n",
      "Accept Ho\n",
      "\n",
      "\n",
      "W_statistic= 1.893702 W_pvalue= 0.150541\n",
      "Accept Ho\n",
      "\n",
      "\n"
     ]
    }
   ],
   "source": [
    "a = np.random.normal(0, 1, size=10000)\n",
    "b = np.random.normal(1e-1000, 1, size=10000)\n",
    "c = np.random.normal(1e-2, 1, size=10000)\n",
    "comparison_anova(a,b,c)"
   ]
  },
  {
   "cell_type": "code",
   "execution_count": 22,
   "metadata": {},
   "outputs": [
    {
     "name": "stdout",
     "output_type": "stream",
     "text": [
      "statistic= 1.561080 pvalue= 0.209926\n",
      "Accept Ho\n",
      "\n",
      "\n",
      "W_statistic= 1.549279 W_pvalue= 0.212427\n",
      "Accept Ho\n",
      "\n",
      "\n"
     ]
    }
   ],
   "source": [
    "a = np.random.normal(0, 1, size=10000)\n",
    "b = np.random.normal(1e-1000, 1, size=10000)\n",
    "c = np.random.normal(1e-2, 1, size=10000)\n",
    "comparison_anova(a,b,c)"
   ]
  },
  {
   "cell_type": "code",
   "execution_count": 23,
   "metadata": {},
   "outputs": [
    {
     "name": "stdout",
     "output_type": "stream",
     "text": [
      "statistic= 0.285180 pvalue= 0.751881\n",
      "Accept Ho\n",
      "\n",
      "\n",
      "W_statistic= 0.000028 W_pvalue= 0.999972\n",
      "Accept Ho\n",
      "\n",
      "\n"
     ]
    }
   ],
   "source": [
    "a = np.random.normal(0, 100, size=10000)\n",
    "b = np.random.normal(1e-1000, 100, size=10000)\n",
    "c = np.random.normal(1e-2, 100, size=10000)\n",
    "comparison_anova(a,b,c)"
   ]
  },
  {
   "cell_type": "code",
   "execution_count": 24,
   "metadata": {},
   "outputs": [
    {
     "name": "stdout",
     "output_type": "stream",
     "text": [
      "statistic= 30.740753 pvalue= 0.000000\n",
      "Reject Ho\n",
      "\n",
      "\n",
      "W_statistic= 0.003035 W_pvalue= 0.996970\n",
      "Accept Ho\n",
      "\n",
      "\n"
     ]
    }
   ],
   "source": [
    "a = np.random.normal(0, 100, size=10000)\n",
    "b = np.random.normal(10, 100, size=10000)\n",
    "c = np.random.normal(2, 100, size=10000)\n",
    "comparison_anova(a,b,c)"
   ]
  },
  {
   "cell_type": "code",
   "execution_count": 25,
   "metadata": {},
   "outputs": [
    {
     "name": "stdout",
     "output_type": "stream",
     "text": [
      "statistic= 2863.819020 pvalue= 0.000000\n",
      "Reject Ho\n",
      "\n",
      "\n",
      "W_statistic= 29.520666 W_pvalue= 0.000000\n",
      "Reject Ho\n",
      "\n",
      "\n"
     ]
    }
   ],
   "source": [
    "a = np.random.normal(0, 10, size=10000)\n",
    "b = np.random.normal(10, 10, size=10000)\n",
    "c = np.random.normal(2, 10, size=10000)\n",
    "comparison_anova(a,b,c)"
   ]
  },
  {
   "cell_type": "code",
   "execution_count": 26,
   "metadata": {},
   "outputs": [
    {
     "name": "stdout",
     "output_type": "stream",
     "text": [
      "statistic= 1.048135 pvalue= 0.350591\n",
      "Accept Ho\n",
      "\n",
      "\n",
      "W_statistic= 0.000000 W_pvalue= 1.000000\n",
      "Accept Ho\n",
      "\n",
      "\n"
     ]
    }
   ],
   "source": [
    "#error 404 not found...\n",
    "a = np.random.normal(-9, 10000, size=1000000)\n",
    "b = np.random.normal(10, 10000, size=1000000)\n",
    "c = np.random.normal(2, 10000, size=1000000)\n",
    "comparison_anova(a,b,c)"
   ]
  },
  {
   "cell_type": "markdown",
   "metadata": {},
   "source": [
    "### ! = means <br>== variances <br> ! = sizes"
   ]
  },
  {
   "cell_type": "code",
   "execution_count": 27,
   "metadata": {},
   "outputs": [
    {
     "name": "stdout",
     "output_type": "stream",
     "text": [
      "statistic= 0.787125 pvalue= 0.455172\n",
      "Accept Ho\n",
      "\n",
      "\n",
      "W_statistic= 0.810606 W_pvalue= 0.444813\n",
      "Accept Ho\n",
      "\n",
      "\n"
     ]
    }
   ],
   "source": [
    "a = np.random.normal(0, 1, size=10000)\n",
    "b = np.random.normal(1e-1000, 1, size=3000)\n",
    "c = np.random.normal(1e-2, 1, size=500)\n",
    "comparison_anova(a,b,c)"
   ]
  },
  {
   "cell_type": "code",
   "execution_count": 28,
   "metadata": {},
   "outputs": [
    {
     "name": "stdout",
     "output_type": "stream",
     "text": [
      "statistic= 26291.964026 pvalue= 0.000000\n",
      "Reject Ho\n",
      "\n",
      "\n",
      "W_statistic= 22234.419072 W_pvalue= 0.000000\n",
      "Reject Ho\n",
      "\n",
      "\n"
     ]
    }
   ],
   "source": [
    "a = np.random.normal(0, 1, size=10000)\n",
    "b = np.random.normal(-1, 1, size=3000)\n",
    "c = np.random.normal(10, 1, size=500)\n",
    "comparison_anova(a,b,c)"
   ]
  },
  {
   "cell_type": "code",
   "execution_count": 29,
   "metadata": {},
   "outputs": [
    {
     "name": "stdout",
     "output_type": "stream",
     "text": [
      "statistic= 6.859270 pvalue= 0.001065\n",
      "Reject Ho\n",
      "\n",
      "\n",
      "W_statistic= 0.000667 W_pvalue= 0.999333\n",
      "Accept Ho\n",
      "\n",
      "\n"
     ]
    }
   ],
   "source": [
    "#error 404\n",
    "a = np.random.normal(0, 100, size=1000)\n",
    "b = np.random.normal(-1, 100, size=300)\n",
    "c = np.random.normal(10, 100, size=2000)\n",
    "comparison_anova(a,b,c)"
   ]
  },
  {
   "cell_type": "code",
   "execution_count": 30,
   "metadata": {},
   "outputs": [
    {
     "name": "stdout",
     "output_type": "stream",
     "text": [
      "statistic= 2749.401942 pvalue= 0.000000\n",
      "Reject Ho\n",
      "\n",
      "\n",
      "W_statistic= 0.271983 W_pvalue= 0.761874\n",
      "Accept Ho\n",
      "\n",
      "\n"
     ]
    }
   ],
   "source": [
    "#error 404\n",
    "a = np.random.normal(100, 100, size=10000)\n",
    "b = np.random.normal(20, 100, size=3000)\n",
    "c = np.random.normal(10, 100, size=20000)\n",
    "comparison_anova(a,b,c)"
   ]
  },
  {
   "cell_type": "code",
   "execution_count": 31,
   "metadata": {},
   "outputs": [
    {
     "name": "stdout",
     "output_type": "stream",
     "text": [
      "statistic= 2539.779194 pvalue= 0.000000\n",
      "Reject Ho\n",
      "\n",
      "\n",
      "W_statistic= 19.949216 W_pvalue= 0.000000\n",
      "Reject Ho\n",
      "\n",
      "\n"
     ]
    }
   ],
   "source": [
    "a = np.random.normal(0, 11, size=1000)\n",
    "b = np.random.normal(10, 11, size=300)\n",
    "c = np.random.normal(30, 11, size=2000)\n",
    "comparison_anova(a,b,c)"
   ]
  },
  {
   "cell_type": "code",
   "execution_count": 32,
   "metadata": {},
   "outputs": [
    {
     "name": "stdout",
     "output_type": "stream",
     "text": [
      "statistic= 31.442666 pvalue= 0.000000\n",
      "Reject Ho\n",
      "\n",
      "\n",
      "W_statistic= 0.002514 W_pvalue= 0.997490\n",
      "Accept Ho\n",
      "\n",
      "\n"
     ]
    }
   ],
   "source": [
    "a = np.random.normal(0, 110, size=1000)\n",
    "b = np.random.normal(10, 110, size=300)\n",
    "c = np.random.normal(30, 110, size=2000)\n",
    "comparison_anova(a,b,c)"
   ]
  },
  {
   "cell_type": "markdown",
   "metadata": {},
   "source": [
    "### ! = means <br>! = variances <br> == sizes"
   ]
  },
  {
   "cell_type": "code",
   "execution_count": 33,
   "metadata": {},
   "outputs": [
    {
     "name": "stdout",
     "output_type": "stream",
     "text": [
      "statistic= 0.458295 pvalue= 0.632365\n",
      "Accept Ho\n",
      "\n",
      "\n",
      "W_statistic= 0.443435 W_pvalue= 0.641837\n",
      "Accept Ho\n",
      "\n",
      "\n"
     ]
    }
   ],
   "source": [
    "a = np.random.normal(0, 2, size=10000)\n",
    "b = np.random.normal(1e-1000, 0.2, size=10000)\n",
    "c = np.random.normal(1e-2, 1.3, size=10000)\n",
    "comparison_anova(a,b,c)"
   ]
  },
  {
   "cell_type": "code",
   "execution_count": 34,
   "metadata": {},
   "outputs": [
    {
     "name": "stdout",
     "output_type": "stream",
     "text": [
      "statistic= 44.558765 pvalue= 0.000000\n",
      "Reject Ho\n",
      "\n",
      "\n",
      "W_statistic= 0.593749 W_pvalue= 0.552268\n",
      "Accept Ho\n",
      "\n",
      "\n"
     ]
    }
   ],
   "source": [
    "a = np.random.normal(10, 2, size=10000)\n",
    "b = np.random.normal(11, 20, size=10000)\n",
    "c = np.random.normal(12, 13, size=10000)\n",
    "comparison_anova(a,b,c)"
   ]
  },
  {
   "cell_type": "code",
   "execution_count": 35,
   "metadata": {},
   "outputs": [
    {
     "name": "stdout",
     "output_type": "stream",
     "text": [
      "statistic= 1743.723903 pvalue= 0.000000\n",
      "Reject Ho\n",
      "\n",
      "\n",
      "W_statistic= 4.492042 W_pvalue= 0.011215\n",
      "Reject Ho\n",
      "\n",
      "\n"
     ]
    }
   ],
   "source": [
    "a = np.random.normal(10, 2, size=10000)\n",
    "b = np.random.normal(21, 20, size=10000)\n",
    "c = np.random.normal(12, 13, size=10000)\n",
    "comparison_anova(a,b,c)"
   ]
  },
  {
   "cell_type": "code",
   "execution_count": 36,
   "metadata": {},
   "outputs": [
    {
     "name": "stdout",
     "output_type": "stream",
     "text": [
      "statistic= 27.911283 pvalue= 0.000000\n",
      "Reject Ho\n",
      "\n",
      "\n",
      "W_statistic= 0.062204 W_pvalue= 0.939719\n",
      "Accept Ho\n",
      "\n",
      "\n"
     ]
    }
   ],
   "source": [
    "#error 404\n",
    "a = np.random.normal(10, 2, size=100)\n",
    "b = np.random.normal(21, 20, size=100)\n",
    "c = np.random.normal(12, 13, size=100)\n",
    "comparison_anova(a,b,c)"
   ]
  },
  {
   "cell_type": "code",
   "execution_count": 37,
   "metadata": {},
   "outputs": [
    {
     "name": "stdout",
     "output_type": "stream",
     "text": [
      "statistic= 3.184600 pvalue= 0.041675\n",
      "Reject Ho\n",
      "\n",
      "\n",
      "W_statistic= 0.078648 W_pvalue= 0.924373\n",
      "Accept Ho\n",
      "\n",
      "\n"
     ]
    }
   ],
   "source": [
    "#error 404\n",
    "a = np.random.normal(10, 100, size=500)\n",
    "b = np.random.normal(21, 20, size=500)\n",
    "c = np.random.normal(12, 13, size=500)\n",
    "comparison_anova(a,b,c)"
   ]
  },
  {
   "cell_type": "code",
   "execution_count": 38,
   "metadata": {},
   "outputs": [
    {
     "name": "stdout",
     "output_type": "stream",
     "text": [
      "statistic= 1517.021883 pvalue= 0.000000\n",
      "Reject Ho\n",
      "\n",
      "\n",
      "W_statistic= 22.901735 W_pvalue= 0.000000\n",
      "Reject Ho\n",
      "\n",
      "\n"
     ]
    }
   ],
   "source": [
    "a = np.random.normal(100, 2, size=100)\n",
    "b = np.random.normal(21, 20, size=100)\n",
    "c = np.random.normal(3, 13, size=100)\n",
    "comparison_anova(a,b,c)"
   ]
  },
  {
   "cell_type": "markdown",
   "metadata": {},
   "source": [
    "### ! = means <br>! = variances <br> ! = sizes"
   ]
  },
  {
   "cell_type": "code",
   "execution_count": 39,
   "metadata": {},
   "outputs": [
    {
     "name": "stdout",
     "output_type": "stream",
     "text": [
      "statistic= 0.675045 pvalue= 0.509161\n",
      "Accept Ho\n",
      "\n",
      "\n",
      "W_statistic= 0.009315 W_pvalue= 0.990728\n",
      "Accept Ho\n",
      "\n",
      "\n"
     ]
    }
   ],
   "source": [
    "a = np.random.normal(0, 3, size=300)\n",
    "b = np.random.normal(1e-1000, 1.5, size=2000)\n",
    "c = np.random.normal(1e-2, 0.4, size=6000)\n",
    "comparison_anova(a,b,c)"
   ]
  },
  {
   "cell_type": "code",
   "execution_count": 40,
   "metadata": {},
   "outputs": [
    {
     "name": "stdout",
     "output_type": "stream",
     "text": [
      "statistic= 1540445.911576 pvalue= 0.000000\n",
      "Reject Ho\n",
      "\n",
      "\n",
      "W_statistic= 58878.719432 W_pvalue= 0.000000\n",
      "Reject Ho\n",
      "\n",
      "\n"
     ]
    }
   ],
   "source": [
    "a = np.random.normal(100, 3, size=300)\n",
    "b = np.random.normal(13, 1.5, size=2000)\n",
    "c = np.random.normal(-2, 0.4, size=6000)\n",
    "comparison_anova(a,b,c)"
   ]
  },
  {
   "cell_type": "code",
   "execution_count": 41,
   "metadata": {},
   "outputs": [
    {
     "name": "stdout",
     "output_type": "stream",
     "text": [
      "statistic= 0.373177 pvalue= 0.688546\n",
      "Accept Ho\n",
      "\n",
      "\n",
      "W_statistic= 0.000108 W_pvalue= 0.999892\n",
      "Accept Ho\n",
      "\n",
      "\n"
     ]
    }
   ],
   "source": [
    "a = np.random.normal(111, 300, size=30000)\n",
    "b = np.random.normal(115, 15, size=2000)\n",
    "c = np.random.normal(110, 190, size=6000)\n",
    "comparison_anova(a,b,c)"
   ]
  },
  {
   "cell_type": "code",
   "execution_count": 42,
   "metadata": {},
   "outputs": [
    {
     "name": "stdout",
     "output_type": "stream",
     "text": [
      "statistic= 20983.204044 pvalue= 0.000000\n",
      "Reject Ho\n",
      "\n",
      "\n",
      "W_statistic= 1.148756 W_pvalue= 0.317062\n",
      "Accept Ho\n",
      "\n",
      "\n"
     ]
    }
   ],
   "source": [
    "a = np.random.normal(111, 300, size=30000)\n",
    "b = np.random.normal(215, 15, size=2000)\n",
    "c = np.random.normal(910, 190, size=6000)\n",
    "comparison_anova(a,b,c)"
   ]
  },
  {
   "cell_type": "code",
   "execution_count": 43,
   "metadata": {},
   "outputs": [
    {
     "name": "stdout",
     "output_type": "stream",
     "text": [
      "statistic= 22048.317560 pvalue= 0.000000\n",
      "Reject Ho\n",
      "\n",
      "\n",
      "W_statistic= 3.874123 W_pvalue= 0.020806\n",
      "Reject Ho\n",
      "\n",
      "\n"
     ]
    }
   ],
   "source": [
    "a = np.random.normal(111, 300, size=30000)\n",
    "b = np.random.normal(215, 100, size=2000)\n",
    "c = np.random.normal(910, 109, size=6000)\n",
    "comparison_anova(a,b,c)"
   ]
  }
 ],
 "metadata": {
  "kernelspec": {
   "display_name": "Python 3",
   "language": "python",
   "name": "python3"
  },
  "language_info": {
   "codemirror_mode": {
    "name": "ipython",
    "version": 3
   },
   "file_extension": ".py",
   "mimetype": "text/x-python",
   "name": "python",
   "nbconvert_exporter": "python",
   "pygments_lexer": "ipython3",
   "version": "3.7.0"
  }
 },
 "nbformat": 4,
 "nbformat_minor": 2
}
